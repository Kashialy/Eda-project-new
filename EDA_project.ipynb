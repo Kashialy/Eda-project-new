{
  "nbformat": 4,
  "nbformat_minor": 0,
  "metadata": {
    "colab": {
      "provenance": [],
      "mount_file_id": "15_d80zW2Zk9BFiLWwuMQNDNfosip8nRu",
      "authorship_tag": "ABX9TyOSgjds2zuGbwX/HkOn8Pis",
      "include_colab_link": true
    },
    "kernelspec": {
      "name": "python3",
      "display_name": "Python 3"
    },
    "language_info": {
      "name": "python"
    }
  },
  "cells": [
    {
      "cell_type": "markdown",
      "metadata": {
        "id": "view-in-github",
        "colab_type": "text"
      },
      "source": [
        "<a href=\"https://colab.research.google.com/github/Kashialy/Eda-project-new/blob/main/EDA_project.ipynb\" target=\"_parent\"><img src=\"https://colab.research.google.com/assets/colab-badge.svg\" alt=\"Open In Colab\"/></a>"
      ]
    },
    {
      "cell_type": "code",
      "execution_count": 47,
      "metadata": {
        "colab": {
          "base_uri": "https://localhost:8080/"
        },
        "id": "pTbn_AJs6kHQ",
        "outputId": "2d037c62-be75-4e44-a405-7def270bc05a"
      },
      "outputs": [
        {
          "output_type": "stream",
          "name": "stdout",
          "text": [
            "        ID        date  meals_served kitchen_staff  temperature_C  \\\n",
            "0        0  12/19/2022         196.0            13      27.887273   \n",
            "1        1  11/21/2023         244.0            15      10.317872   \n",
            "2        2    2/1/2022         148.0            16      27.714300   \n",
            "3        3   3/19/2023         157.0            19      19.173902   \n",
            "4        4   7/18/2022         297.0            10      26.375233   \n",
            "...    ...         ...           ...           ...            ...   \n",
            "1817  1817   3/29/2022         395.0            18      17.354199   \n",
            "1818  1818  11/27/2022         483.0            11      24.912137   \n",
            "1819  1819   4/12/2023         243.0            11      28.870946   \n",
            "1820  1820   2/14/2022         406.0            10      19.061638   \n",
            "1821  1821   5/10/2024         350.0             6      23.708015   \n",
            "\n",
            "      humidity_percent  day_of_week special_event  past_waste_kg  \\\n",
            "0            45.362854            0             0       7.740587   \n",
            "1            64.430475            1             0      42.311779   \n",
            "2            69.046113            1             0      41.184305   \n",
            "3            46.292823            6             0      41.543492   \n",
            "4            79.741064            0             0      26.525097   \n",
            "...                ...          ...           ...            ...   \n",
            "1817         45.138435            1             0      40.550668   \n",
            "1818         59.485091            6             0      36.470276   \n",
            "1819         70.508404            2             0      19.767203   \n",
            "1820         55.286642            0             0      28.560361   \n",
            "1821         51.351286            4             0      46.786860   \n",
            "\n",
            "     staff_experience waste_category  \n",
            "0        intermediate          dairy  \n",
            "1                 NaN           MeAt  \n",
            "2            Beginner           MeAt  \n",
            "3            Beginner           MeAt  \n",
            "4        Intermediate           MEAT  \n",
            "...               ...            ...  \n",
            "1817     Intermediate         GRAINS  \n",
            "1818     intermediate          dairy  \n",
            "1819     Intermediate           MeAt  \n",
            "1820           EXPERT           MEAT  \n",
            "1821     intermediate     Vegetables  \n",
            "\n",
            "[1822 rows x 11 columns]\n"
          ]
        }
      ],
      "source": [
        "import pandas as pd\n",
        "df=pd.read_csv(\"/content/drive/MyDrive/Classroom/DS Bootcamp Cohort 11/Food data.csv\")\n",
        "print(df)"
      ]
    },
    {
      "cell_type": "code",
      "source": [],
      "metadata": {
        "id": "oNC5SsEoF0jX"
      },
      "execution_count": null,
      "outputs": []
    },
    {
      "cell_type": "code",
      "execution_count": 3,
      "metadata": {
        "colab": {
          "base_uri": "https://localhost:8080/",
          "height": 335
        },
        "id": "nVzwEA_LF5QK",
        "outputId": "9e9ff901-6bc0-4a33-efd9-9b9d53d3db01"
      },
      "outputs": [
        {
          "output_type": "stream",
          "name": "stdout",
          "text": [
            "\n",
            "Summary Statistics for Numerical Columns:\n"
          ]
        },
        {
          "output_type": "execute_result",
          "data": {
            "text/plain": [
              "                ID  meals_served  temperature_C  humidity_percent  \\\n",
              "count  1822.000000   1790.000000    1822.000000       1806.000000   \n",
              "mean    910.500000    373.512849      22.189280         60.791257   \n",
              "std     526.110413    494.791973       8.919939         17.326232   \n",
              "min       0.000000    100.000000     -10.372207         30.121111   \n",
              "25%     455.250000    211.250000      15.684259         46.035158   \n",
              "50%     910.500000    306.000000      22.115040         61.634935   \n",
              "75%    1365.750000    407.000000      28.807494         75.789317   \n",
              "max    1821.000000   4730.000000      60.000000         89.982828   \n",
              "\n",
              "       day_of_week  past_waste_kg  \n",
              "count   1822.00000    1806.000000  \n",
              "mean       3.01427      26.997534  \n",
              "std        2.00899      12.791891  \n",
              "min        0.00000       5.008394  \n",
              "25%        1.00000      15.990760  \n",
              "50%        3.00000      26.832569  \n",
              "75%        5.00000      38.116308  \n",
              "max        6.00000      49.803703  "
            ],
            "text/html": [
              "\n",
              "  <div id=\"df-52dc7869-d4cf-4bc2-b671-d9f84dd573cb\" class=\"colab-df-container\">\n",
              "    <div>\n",
              "<style scoped>\n",
              "    .dataframe tbody tr th:only-of-type {\n",
              "        vertical-align: middle;\n",
              "    }\n",
              "\n",
              "    .dataframe tbody tr th {\n",
              "        vertical-align: top;\n",
              "    }\n",
              "\n",
              "    .dataframe thead th {\n",
              "        text-align: right;\n",
              "    }\n",
              "</style>\n",
              "<table border=\"1\" class=\"dataframe\">\n",
              "  <thead>\n",
              "    <tr style=\"text-align: right;\">\n",
              "      <th></th>\n",
              "      <th>ID</th>\n",
              "      <th>meals_served</th>\n",
              "      <th>temperature_C</th>\n",
              "      <th>humidity_percent</th>\n",
              "      <th>day_of_week</th>\n",
              "      <th>past_waste_kg</th>\n",
              "    </tr>\n",
              "  </thead>\n",
              "  <tbody>\n",
              "    <tr>\n",
              "      <th>count</th>\n",
              "      <td>1822.000000</td>\n",
              "      <td>1790.000000</td>\n",
              "      <td>1822.000000</td>\n",
              "      <td>1806.000000</td>\n",
              "      <td>1822.00000</td>\n",
              "      <td>1806.000000</td>\n",
              "    </tr>\n",
              "    <tr>\n",
              "      <th>mean</th>\n",
              "      <td>910.500000</td>\n",
              "      <td>373.512849</td>\n",
              "      <td>22.189280</td>\n",
              "      <td>60.791257</td>\n",
              "      <td>3.01427</td>\n",
              "      <td>26.997534</td>\n",
              "    </tr>\n",
              "    <tr>\n",
              "      <th>std</th>\n",
              "      <td>526.110413</td>\n",
              "      <td>494.791973</td>\n",
              "      <td>8.919939</td>\n",
              "      <td>17.326232</td>\n",
              "      <td>2.00899</td>\n",
              "      <td>12.791891</td>\n",
              "    </tr>\n",
              "    <tr>\n",
              "      <th>min</th>\n",
              "      <td>0.000000</td>\n",
              "      <td>100.000000</td>\n",
              "      <td>-10.372207</td>\n",
              "      <td>30.121111</td>\n",
              "      <td>0.00000</td>\n",
              "      <td>5.008394</td>\n",
              "    </tr>\n",
              "    <tr>\n",
              "      <th>25%</th>\n",
              "      <td>455.250000</td>\n",
              "      <td>211.250000</td>\n",
              "      <td>15.684259</td>\n",
              "      <td>46.035158</td>\n",
              "      <td>1.00000</td>\n",
              "      <td>15.990760</td>\n",
              "    </tr>\n",
              "    <tr>\n",
              "      <th>50%</th>\n",
              "      <td>910.500000</td>\n",
              "      <td>306.000000</td>\n",
              "      <td>22.115040</td>\n",
              "      <td>61.634935</td>\n",
              "      <td>3.00000</td>\n",
              "      <td>26.832569</td>\n",
              "    </tr>\n",
              "    <tr>\n",
              "      <th>75%</th>\n",
              "      <td>1365.750000</td>\n",
              "      <td>407.000000</td>\n",
              "      <td>28.807494</td>\n",
              "      <td>75.789317</td>\n",
              "      <td>5.00000</td>\n",
              "      <td>38.116308</td>\n",
              "    </tr>\n",
              "    <tr>\n",
              "      <th>max</th>\n",
              "      <td>1821.000000</td>\n",
              "      <td>4730.000000</td>\n",
              "      <td>60.000000</td>\n",
              "      <td>89.982828</td>\n",
              "      <td>6.00000</td>\n",
              "      <td>49.803703</td>\n",
              "    </tr>\n",
              "  </tbody>\n",
              "</table>\n",
              "</div>\n",
              "    <div class=\"colab-df-buttons\">\n",
              "\n",
              "  <div class=\"colab-df-container\">\n",
              "    <button class=\"colab-df-convert\" onclick=\"convertToInteractive('df-52dc7869-d4cf-4bc2-b671-d9f84dd573cb')\"\n",
              "            title=\"Convert this dataframe to an interactive table.\"\n",
              "            style=\"display:none;\">\n",
              "\n",
              "  <svg xmlns=\"http://www.w3.org/2000/svg\" height=\"24px\" viewBox=\"0 -960 960 960\">\n",
              "    <path d=\"M120-120v-720h720v720H120Zm60-500h600v-160H180v160Zm220 220h160v-160H400v160Zm0 220h160v-160H400v160ZM180-400h160v-160H180v160Zm440 0h160v-160H620v160ZM180-180h160v-160H180v160Zm440 0h160v-160H620v160Z\"/>\n",
              "  </svg>\n",
              "    </button>\n",
              "\n",
              "  <style>\n",
              "    .colab-df-container {\n",
              "      display:flex;\n",
              "      gap: 12px;\n",
              "    }\n",
              "\n",
              "    .colab-df-convert {\n",
              "      background-color: #E8F0FE;\n",
              "      border: none;\n",
              "      border-radius: 50%;\n",
              "      cursor: pointer;\n",
              "      display: none;\n",
              "      fill: #1967D2;\n",
              "      height: 32px;\n",
              "      padding: 0 0 0 0;\n",
              "      width: 32px;\n",
              "    }\n",
              "\n",
              "    .colab-df-convert:hover {\n",
              "      background-color: #E2EBFA;\n",
              "      box-shadow: 0px 1px 2px rgba(60, 64, 67, 0.3), 0px 1px 3px 1px rgba(60, 64, 67, 0.15);\n",
              "      fill: #174EA6;\n",
              "    }\n",
              "\n",
              "    .colab-df-buttons div {\n",
              "      margin-bottom: 4px;\n",
              "    }\n",
              "\n",
              "    [theme=dark] .colab-df-convert {\n",
              "      background-color: #3B4455;\n",
              "      fill: #D2E3FC;\n",
              "    }\n",
              "\n",
              "    [theme=dark] .colab-df-convert:hover {\n",
              "      background-color: #434B5C;\n",
              "      box-shadow: 0px 1px 3px 1px rgba(0, 0, 0, 0.15);\n",
              "      filter: drop-shadow(0px 1px 2px rgba(0, 0, 0, 0.3));\n",
              "      fill: #FFFFFF;\n",
              "    }\n",
              "  </style>\n",
              "\n",
              "    <script>\n",
              "      const buttonEl =\n",
              "        document.querySelector('#df-52dc7869-d4cf-4bc2-b671-d9f84dd573cb button.colab-df-convert');\n",
              "      buttonEl.style.display =\n",
              "        google.colab.kernel.accessAllowed ? 'block' : 'none';\n",
              "\n",
              "      async function convertToInteractive(key) {\n",
              "        const element = document.querySelector('#df-52dc7869-d4cf-4bc2-b671-d9f84dd573cb');\n",
              "        const dataTable =\n",
              "          await google.colab.kernel.invokeFunction('convertToInteractive',\n",
              "                                                    [key], {});\n",
              "        if (!dataTable) return;\n",
              "\n",
              "        const docLinkHtml = 'Like what you see? Visit the ' +\n",
              "          '<a target=\"_blank\" href=https://colab.research.google.com/notebooks/data_table.ipynb>data table notebook</a>'\n",
              "          + ' to learn more about interactive tables.';\n",
              "        element.innerHTML = '';\n",
              "        dataTable['output_type'] = 'display_data';\n",
              "        await google.colab.output.renderOutput(dataTable, element);\n",
              "        const docLink = document.createElement('div');\n",
              "        docLink.innerHTML = docLinkHtml;\n",
              "        element.appendChild(docLink);\n",
              "      }\n",
              "    </script>\n",
              "  </div>\n",
              "\n",
              "\n",
              "    <div id=\"df-1be97f24-0ee4-4d3d-87be-b4d45076ecef\">\n",
              "      <button class=\"colab-df-quickchart\" onclick=\"quickchart('df-1be97f24-0ee4-4d3d-87be-b4d45076ecef')\"\n",
              "                title=\"Suggest charts\"\n",
              "                style=\"display:none;\">\n",
              "\n",
              "<svg xmlns=\"http://www.w3.org/2000/svg\" height=\"24px\"viewBox=\"0 0 24 24\"\n",
              "     width=\"24px\">\n",
              "    <g>\n",
              "        <path d=\"M19 3H5c-1.1 0-2 .9-2 2v14c0 1.1.9 2 2 2h14c1.1 0 2-.9 2-2V5c0-1.1-.9-2-2-2zM9 17H7v-7h2v7zm4 0h-2V7h2v10zm4 0h-2v-4h2v4z\"/>\n",
              "    </g>\n",
              "</svg>\n",
              "      </button>\n",
              "\n",
              "<style>\n",
              "  .colab-df-quickchart {\n",
              "      --bg-color: #E8F0FE;\n",
              "      --fill-color: #1967D2;\n",
              "      --hover-bg-color: #E2EBFA;\n",
              "      --hover-fill-color: #174EA6;\n",
              "      --disabled-fill-color: #AAA;\n",
              "      --disabled-bg-color: #DDD;\n",
              "  }\n",
              "\n",
              "  [theme=dark] .colab-df-quickchart {\n",
              "      --bg-color: #3B4455;\n",
              "      --fill-color: #D2E3FC;\n",
              "      --hover-bg-color: #434B5C;\n",
              "      --hover-fill-color: #FFFFFF;\n",
              "      --disabled-bg-color: #3B4455;\n",
              "      --disabled-fill-color: #666;\n",
              "  }\n",
              "\n",
              "  .colab-df-quickchart {\n",
              "    background-color: var(--bg-color);\n",
              "    border: none;\n",
              "    border-radius: 50%;\n",
              "    cursor: pointer;\n",
              "    display: none;\n",
              "    fill: var(--fill-color);\n",
              "    height: 32px;\n",
              "    padding: 0;\n",
              "    width: 32px;\n",
              "  }\n",
              "\n",
              "  .colab-df-quickchart:hover {\n",
              "    background-color: var(--hover-bg-color);\n",
              "    box-shadow: 0 1px 2px rgba(60, 64, 67, 0.3), 0 1px 3px 1px rgba(60, 64, 67, 0.15);\n",
              "    fill: var(--button-hover-fill-color);\n",
              "  }\n",
              "\n",
              "  .colab-df-quickchart-complete:disabled,\n",
              "  .colab-df-quickchart-complete:disabled:hover {\n",
              "    background-color: var(--disabled-bg-color);\n",
              "    fill: var(--disabled-fill-color);\n",
              "    box-shadow: none;\n",
              "  }\n",
              "\n",
              "  .colab-df-spinner {\n",
              "    border: 2px solid var(--fill-color);\n",
              "    border-color: transparent;\n",
              "    border-bottom-color: var(--fill-color);\n",
              "    animation:\n",
              "      spin 1s steps(1) infinite;\n",
              "  }\n",
              "\n",
              "  @keyframes spin {\n",
              "    0% {\n",
              "      border-color: transparent;\n",
              "      border-bottom-color: var(--fill-color);\n",
              "      border-left-color: var(--fill-color);\n",
              "    }\n",
              "    20% {\n",
              "      border-color: transparent;\n",
              "      border-left-color: var(--fill-color);\n",
              "      border-top-color: var(--fill-color);\n",
              "    }\n",
              "    30% {\n",
              "      border-color: transparent;\n",
              "      border-left-color: var(--fill-color);\n",
              "      border-top-color: var(--fill-color);\n",
              "      border-right-color: var(--fill-color);\n",
              "    }\n",
              "    40% {\n",
              "      border-color: transparent;\n",
              "      border-right-color: var(--fill-color);\n",
              "      border-top-color: var(--fill-color);\n",
              "    }\n",
              "    60% {\n",
              "      border-color: transparent;\n",
              "      border-right-color: var(--fill-color);\n",
              "    }\n",
              "    80% {\n",
              "      border-color: transparent;\n",
              "      border-right-color: var(--fill-color);\n",
              "      border-bottom-color: var(--fill-color);\n",
              "    }\n",
              "    90% {\n",
              "      border-color: transparent;\n",
              "      border-bottom-color: var(--fill-color);\n",
              "    }\n",
              "  }\n",
              "</style>\n",
              "\n",
              "      <script>\n",
              "        async function quickchart(key) {\n",
              "          const quickchartButtonEl =\n",
              "            document.querySelector('#' + key + ' button');\n",
              "          quickchartButtonEl.disabled = true;  // To prevent multiple clicks.\n",
              "          quickchartButtonEl.classList.add('colab-df-spinner');\n",
              "          try {\n",
              "            const charts = await google.colab.kernel.invokeFunction(\n",
              "                'suggestCharts', [key], {});\n",
              "          } catch (error) {\n",
              "            console.error('Error during call to suggestCharts:', error);\n",
              "          }\n",
              "          quickchartButtonEl.classList.remove('colab-df-spinner');\n",
              "          quickchartButtonEl.classList.add('colab-df-quickchart-complete');\n",
              "        }\n",
              "        (() => {\n",
              "          let quickchartButtonEl =\n",
              "            document.querySelector('#df-1be97f24-0ee4-4d3d-87be-b4d45076ecef button');\n",
              "          quickchartButtonEl.style.display =\n",
              "            google.colab.kernel.accessAllowed ? 'block' : 'none';\n",
              "        })();\n",
              "      </script>\n",
              "    </div>\n",
              "\n",
              "    </div>\n",
              "  </div>\n"
            ],
            "application/vnd.google.colaboratory.intrinsic+json": {
              "type": "dataframe",
              "summary": "{\n  \"name\": \"numerical_cols\",\n  \"rows\": 8,\n  \"fields\": [\n    {\n      \"column\": \"ID\",\n      \"properties\": {\n        \"dtype\": \"number\",\n        \"std\": 656.4387204734469,\n        \"min\": 0.0,\n        \"max\": 1822.0,\n        \"num_unique_values\": 7,\n        \"samples\": [\n          1822.0,\n          910.5,\n          1365.75\n        ],\n        \"semantic_type\": \"\",\n        \"description\": \"\"\n      }\n    },\n    {\n      \"column\": \"meals_served\",\n      \"properties\": {\n        \"dtype\": \"number\",\n        \"std\": 1577.9216746075062,\n        \"min\": 100.0,\n        \"max\": 4730.0,\n        \"num_unique_values\": 8,\n        \"samples\": [\n          373.51284916201115,\n          306.0,\n          1790.0\n        ],\n        \"semantic_type\": \"\",\n        \"description\": \"\"\n      }\n    },\n    {\n      \"column\": \"temperature_C\",\n      \"properties\": {\n        \"dtype\": \"number\",\n        \"std\": 637.0399266199018,\n        \"min\": -10.37220651,\n        \"max\": 1822.0,\n        \"num_unique_values\": 8,\n        \"samples\": [\n          22.1892803318101,\n          22.11503968,\n          1822.0\n        ],\n        \"semantic_type\": \"\",\n        \"description\": \"\"\n      }\n    },\n    {\n      \"column\": \"humidity_percent\",\n      \"properties\": {\n        \"dtype\": \"number\",\n        \"std\": 619.6836354164794,\n        \"min\": 17.326232260928485,\n        \"max\": 1806.0,\n        \"num_unique_values\": 8,\n        \"samples\": [\n          60.791256687015505,\n          61.63493525,\n          1806.0\n        ],\n        \"semantic_type\": \"\",\n        \"description\": \"\"\n      }\n    },\n    {\n      \"column\": \"day_of_week\",\n      \"properties\": {\n        \"dtype\": \"number\",\n        \"std\": 643.1659317821436,\n        \"min\": 0.0,\n        \"max\": 1822.0,\n        \"num_unique_values\": 8,\n        \"samples\": [\n          3.0142700329308454,\n          3.0,\n          1822.0\n        ],\n        \"semantic_type\": \"\",\n        \"description\": \"\"\n      }\n    },\n    {\n      \"column\": \"past_waste_kg\",\n      \"properties\": {\n        \"dtype\": \"number\",\n        \"std\": 629.812825538018,\n        \"min\": 5.008393768,\n        \"max\": 1806.0,\n        \"num_unique_values\": 8,\n        \"samples\": [\n          26.997533876241413,\n          26.832568600000002,\n          1806.0\n        ],\n        \"semantic_type\": \"\",\n        \"description\": \"\"\n      }\n    }\n  ]\n}"
            }
          },
          "metadata": {},
          "execution_count": 3
        }
      ],
      "source": [
        "\n",
        "# Value Distributions for Numerical Columns\n",
        "numerical_cols = df.select_dtypes(include=['number'])\n",
        "print(\"\\nSummary Statistics for Numerical Columns:\")\n",
        "numerical_cols.describe()"
      ]
    },
    {
      "cell_type": "code",
      "source": [
        "\n",
        "print(df.isnull().sum())\n"
      ],
      "metadata": {
        "colab": {
          "base_uri": "https://localhost:8080/"
        },
        "id": "6bbWZxvbAz64",
        "outputId": "e0eb9b13-d3ce-4415-f3bd-d2c4e7eb6236"
      },
      "execution_count": 4,
      "outputs": [
        {
          "output_type": "stream",
          "name": "stdout",
          "text": [
            "ID                    0\n",
            "date                  0\n",
            "meals_served         32\n",
            "kitchen_staff        18\n",
            "temperature_C         0\n",
            "humidity_percent     16\n",
            "day_of_week           0\n",
            "special_event         0\n",
            "past_waste_kg        16\n",
            "staff_experience    337\n",
            "waste_category       21\n",
            "dtype: int64\n"
          ]
        }
      ]
    },
    {
      "cell_type": "code",
      "source": [
        "print( df[\"meals_served\"].fillna(df[\"meals_served\"].median(), inplace=True))\n"
      ],
      "metadata": {
        "colab": {
          "base_uri": "https://localhost:8080/"
        },
        "id": "Kd3EoVtL3G0S",
        "outputId": "1e8c250d-30df-417b-f0b4-5eb4c33cc73d"
      },
      "execution_count": 71,
      "outputs": [
        {
          "output_type": "stream",
          "name": "stdout",
          "text": [
            "None\n"
          ]
        },
        {
          "output_type": "stream",
          "name": "stderr",
          "text": [
            "<ipython-input-71-3b03d91c042c>:1: FutureWarning: A value is trying to be set on a copy of a DataFrame or Series through chained assignment using an inplace method.\n",
            "The behavior will change in pandas 3.0. This inplace method will never work because the intermediate object on which we are setting values always behaves as a copy.\n",
            "\n",
            "For example, when doing 'df[col].method(value, inplace=True)', try using 'df.method({col: value}, inplace=True)' or df[col] = df[col].method(value) instead, to perform the operation inplace on the original object.\n",
            "\n",
            "\n",
            "  print( df[\"meals_served\"].fillna(df[\"meals_served\"].median(), inplace=True))\n"
          ]
        }
      ]
    },
    {
      "cell_type": "code",
      "source": [
        "print(df[\"meals_served\"].isnull().sum())"
      ],
      "metadata": {
        "colab": {
          "base_uri": "https://localhost:8080/"
        },
        "id": "G6t5RC3w7H-m",
        "outputId": "9cb5d146-9978-4d84-fdd5-033f92b87423"
      },
      "execution_count": 59,
      "outputs": [
        {
          "output_type": "stream",
          "name": "stdout",
          "text": [
            "0\n"
          ]
        }
      ]
    },
    {
      "cell_type": "markdown",
      "source": [],
      "metadata": {
        "id": "LubZWM_U8Dqk"
      }
    },
    {
      "cell_type": "code",
      "source": [
        "#print( df[\"kitchen_staff\"].fillna(df[\"kitchen_staff\"].mean(), inplace=True))\n",
        "\n",
        "#df['kitchen_staff'] = pd.to_numeric(df['kitchen_staff'], errors='coerce')\n",
        "print(df[\"kitchen_staff\"].fillna(df[\"kitchen_staff\"].mean(), inplace=True))"
      ],
      "metadata": {
        "colab": {
          "base_uri": "https://localhost:8080/"
        },
        "outputId": "8c36a275-ccbc-4472-f340-5253f88b9a5d",
        "id": "MxCVCp417njd"
      },
      "execution_count": 72,
      "outputs": [
        {
          "output_type": "stream",
          "name": "stdout",
          "text": [
            "None\n"
          ]
        },
        {
          "output_type": "stream",
          "name": "stderr",
          "text": [
            "<ipython-input-72-fd04c623c0dc>:4: FutureWarning: A value is trying to be set on a copy of a DataFrame or Series through chained assignment using an inplace method.\n",
            "The behavior will change in pandas 3.0. This inplace method will never work because the intermediate object on which we are setting values always behaves as a copy.\n",
            "\n",
            "For example, when doing 'df[col].method(value, inplace=True)', try using 'df.method({col: value}, inplace=True)' or df[col] = df[col].method(value) instead, to perform the operation inplace on the original object.\n",
            "\n",
            "\n",
            "  print(df[\"kitchen_staff\"].fillna(df[\"kitchen_staff\"].mean(), inplace=True))\n"
          ]
        }
      ]
    },
    {
      "cell_type": "code",
      "source": [
        "print(df[\"kitchen_staff\"].isnull().sum())"
      ],
      "metadata": {
        "colab": {
          "base_uri": "https://localhost:8080/"
        },
        "id": "kqOLEAEh8LpV",
        "outputId": "09e0786f-800e-4b5c-da47-b40975b7ccd8"
      },
      "execution_count": 73,
      "outputs": [
        {
          "output_type": "stream",
          "name": "stdout",
          "text": [
            "0\n"
          ]
        }
      ]
    },
    {
      "cell_type": "code",
      "source": [
        "#missing values\n",
        "df['humidity_percent'].fillna(df['humidity_percent'].mean(), inplace=True)"
      ],
      "metadata": {
        "colab": {
          "base_uri": "https://localhost:8080/"
        },
        "id": "fAuYb7Wv9WOr",
        "outputId": "7d1c5a36-fcc1-43e9-e491-bbdf9469f791"
      },
      "execution_count": 64,
      "outputs": [
        {
          "output_type": "stream",
          "name": "stderr",
          "text": [
            "<ipython-input-64-88be474a4aca>:2: FutureWarning: A value is trying to be set on a copy of a DataFrame or Series through chained assignment using an inplace method.\n",
            "The behavior will change in pandas 3.0. This inplace method will never work because the intermediate object on which we are setting values always behaves as a copy.\n",
            "\n",
            "For example, when doing 'df[col].method(value, inplace=True)', try using 'df.method({col: value}, inplace=True)' or df[col] = df[col].method(value) instead, to perform the operation inplace on the original object.\n",
            "\n",
            "\n",
            "  df['humidity_percent'].fillna(df['humidity_percent'].mean(), inplace=True)\n"
          ]
        }
      ]
    },
    {
      "cell_type": "code",
      "source": [
        "df[\"past_waste_kg\"].fillna(df[\"past_waste_kg\"].mode()[0], inplace=True)"
      ],
      "metadata": {
        "colab": {
          "base_uri": "https://localhost:8080/"
        },
        "id": "iXmkKe0k4EEn",
        "outputId": "d7e02386-df0b-4ca0-a274-7ec8efa3662b"
      },
      "execution_count": 70,
      "outputs": [
        {
          "output_type": "stream",
          "name": "stderr",
          "text": [
            "<ipython-input-70-6c74be8612cd>:1: FutureWarning: A value is trying to be set on a copy of a DataFrame or Series through chained assignment using an inplace method.\n",
            "The behavior will change in pandas 3.0. This inplace method will never work because the intermediate object on which we are setting values always behaves as a copy.\n",
            "\n",
            "For example, when doing 'df[col].method(value, inplace=True)', try using 'df.method({col: value}, inplace=True)' or df[col] = df[col].method(value) instead, to perform the operation inplace on the original object.\n",
            "\n",
            "\n",
            "  df[\"past_waste_kg\"].fillna(df[\"past_waste_kg\"].mode()[0], inplace=True)\n"
          ]
        }
      ]
    },
    {
      "cell_type": "code",
      "source": [],
      "metadata": {
        "id": "VdIdcCtp9uQH"
      },
      "execution_count": null,
      "outputs": []
    },
    {
      "cell_type": "code",
      "source": [
        "\n",
        "print(df.isnull().sum())\n"
      ],
      "metadata": {
        "colab": {
          "base_uri": "https://localhost:8080/"
        },
        "outputId": "256cee88-c33b-488c-9f1b-eb1a3ac88eaf",
        "id": "nv4OFXw5_tgk"
      },
      "execution_count": 74,
      "outputs": [
        {
          "output_type": "stream",
          "name": "stdout",
          "text": [
            "ID                    0\n",
            "date                  0\n",
            "meals_served          0\n",
            "kitchen_staff         0\n",
            "temperature_C         0\n",
            "humidity_percent      0\n",
            "day_of_week           0\n",
            "special_event         0\n",
            "past_waste_kg         0\n",
            "staff_experience    337\n",
            "waste_category       21\n",
            "dtype: int64\n"
          ]
        }
      ]
    },
    {
      "cell_type": "code",
      "source": [
        "df.duplicated()"
      ],
      "metadata": {
        "colab": {
          "base_uri": "https://localhost:8080/",
          "height": 458
        },
        "id": "Y1_AD9BBD9Cm",
        "outputId": "55f9886f-6ed0-49aa-fb26-c2b380c48abf"
      },
      "execution_count": 5,
      "outputs": [
        {
          "output_type": "execute_result",
          "data": {
            "text/plain": [
              "0       False\n",
              "1       False\n",
              "2       False\n",
              "3       False\n",
              "4       False\n",
              "        ...  \n",
              "1817    False\n",
              "1818    False\n",
              "1819    False\n",
              "1820    False\n",
              "1821    False\n",
              "Length: 1822, dtype: bool"
            ],
            "text/html": [
              "<div>\n",
              "<style scoped>\n",
              "    .dataframe tbody tr th:only-of-type {\n",
              "        vertical-align: middle;\n",
              "    }\n",
              "\n",
              "    .dataframe tbody tr th {\n",
              "        vertical-align: top;\n",
              "    }\n",
              "\n",
              "    .dataframe thead th {\n",
              "        text-align: right;\n",
              "    }\n",
              "</style>\n",
              "<table border=\"1\" class=\"dataframe\">\n",
              "  <thead>\n",
              "    <tr style=\"text-align: right;\">\n",
              "      <th></th>\n",
              "      <th>0</th>\n",
              "    </tr>\n",
              "  </thead>\n",
              "  <tbody>\n",
              "    <tr>\n",
              "      <th>0</th>\n",
              "      <td>False</td>\n",
              "    </tr>\n",
              "    <tr>\n",
              "      <th>1</th>\n",
              "      <td>False</td>\n",
              "    </tr>\n",
              "    <tr>\n",
              "      <th>2</th>\n",
              "      <td>False</td>\n",
              "    </tr>\n",
              "    <tr>\n",
              "      <th>3</th>\n",
              "      <td>False</td>\n",
              "    </tr>\n",
              "    <tr>\n",
              "      <th>4</th>\n",
              "      <td>False</td>\n",
              "    </tr>\n",
              "    <tr>\n",
              "      <th>...</th>\n",
              "      <td>...</td>\n",
              "    </tr>\n",
              "    <tr>\n",
              "      <th>1817</th>\n",
              "      <td>False</td>\n",
              "    </tr>\n",
              "    <tr>\n",
              "      <th>1818</th>\n",
              "      <td>False</td>\n",
              "    </tr>\n",
              "    <tr>\n",
              "      <th>1819</th>\n",
              "      <td>False</td>\n",
              "    </tr>\n",
              "    <tr>\n",
              "      <th>1820</th>\n",
              "      <td>False</td>\n",
              "    </tr>\n",
              "    <tr>\n",
              "      <th>1821</th>\n",
              "      <td>False</td>\n",
              "    </tr>\n",
              "  </tbody>\n",
              "</table>\n",
              "<p>1822 rows × 1 columns</p>\n",
              "</div><br><label><b>dtype:</b> bool</label>"
            ]
          },
          "metadata": {},
          "execution_count": 5
        }
      ]
    },
    {
      "cell_type": "code",
      "source": [],
      "metadata": {
        "id": "8C1MUorrEOv9"
      },
      "execution_count": null,
      "outputs": []
    },
    {
      "source": [
        "\n",
        "# Unique values in categorical columns\n",
        "print(\"\\nUnique values in categorical columns:\")\n",
        "for col in ['staff_experience', 'waste_category']:  # Example categorical columns\n",
        "    print(f\"\\nColumn '{col}':\")\n",
        "    print(df[col].unique())\n",
        "    print(df[col].value_counts())\n",
        "    print(\"---------------------\")"
      ],
      "cell_type": "code",
      "metadata": {
        "colab": {
          "base_uri": "https://localhost:8080/"
        },
        "id": "kgwdk-6xg2lR",
        "outputId": "d527e171-3889-4858-966b-c27b45b7c095"
      },
      "execution_count": 6,
      "outputs": [
        {
          "output_type": "stream",
          "name": "stdout",
          "text": [
            "\n",
            "Unique values in categorical columns:\n",
            "\n",
            "Column 'staff_experience':\n",
            "['intermediate' nan 'Beginner' 'Intermediate' 'EXPERT' 'Pro']\n",
            "staff_experience\n",
            "Beginner        381\n",
            "Intermediate    368\n",
            "intermediate    366\n",
            "EXPERT          346\n",
            "Pro              24\n",
            "Name: count, dtype: int64\n",
            "---------------------\n",
            "\n",
            "Column 'waste_category':\n",
            "['dairy' 'MeAt' 'MEAT' 'Vegetables' 'GRAINS' nan 'Wheat' 'Barley']\n",
            "waste_category\n",
            "MEAT          419\n",
            "dairy         351\n",
            "Vegetables    350\n",
            "MeAt          335\n",
            "GRAINS        317\n",
            "Barley         15\n",
            "Wheat          14\n",
            "Name: count, dtype: int64\n",
            "---------------------\n"
          ]
        }
      ]
    },
    {
      "cell_type": "code",
      "source": [],
      "metadata": {
        "id": "uqWXl77hZgr2"
      },
      "execution_count": null,
      "outputs": []
    },
    {
      "cell_type": "code",
      "source": [
        "df['staff_experience'] = df['staff_experience'].fillna(df['staff_experience'].mode()[0])\n",
        "df['staff_experience'].value_counts()"
      ],
      "metadata": {
        "colab": {
          "base_uri": "https://localhost:8080/",
          "height": 272
        },
        "id": "TQj6XlOWI2Ns",
        "outputId": "cbeaec6f-b2f6-4897-905b-798a81fbaf91"
      },
      "execution_count": 7,
      "outputs": [
        {
          "output_type": "execute_result",
          "data": {
            "text/plain": [
              "staff_experience\n",
              "Beginner        718\n",
              "Intermediate    368\n",
              "intermediate    366\n",
              "EXPERT          346\n",
              "Pro              24\n",
              "Name: count, dtype: int64"
            ],
            "text/html": [
              "<div>\n",
              "<style scoped>\n",
              "    .dataframe tbody tr th:only-of-type {\n",
              "        vertical-align: middle;\n",
              "    }\n",
              "\n",
              "    .dataframe tbody tr th {\n",
              "        vertical-align: top;\n",
              "    }\n",
              "\n",
              "    .dataframe thead th {\n",
              "        text-align: right;\n",
              "    }\n",
              "</style>\n",
              "<table border=\"1\" class=\"dataframe\">\n",
              "  <thead>\n",
              "    <tr style=\"text-align: right;\">\n",
              "      <th></th>\n",
              "      <th>count</th>\n",
              "    </tr>\n",
              "    <tr>\n",
              "      <th>staff_experience</th>\n",
              "      <th></th>\n",
              "    </tr>\n",
              "  </thead>\n",
              "  <tbody>\n",
              "    <tr>\n",
              "      <th>Beginner</th>\n",
              "      <td>718</td>\n",
              "    </tr>\n",
              "    <tr>\n",
              "      <th>Intermediate</th>\n",
              "      <td>368</td>\n",
              "    </tr>\n",
              "    <tr>\n",
              "      <th>intermediate</th>\n",
              "      <td>366</td>\n",
              "    </tr>\n",
              "    <tr>\n",
              "      <th>EXPERT</th>\n",
              "      <td>346</td>\n",
              "    </tr>\n",
              "    <tr>\n",
              "      <th>Pro</th>\n",
              "      <td>24</td>\n",
              "    </tr>\n",
              "  </tbody>\n",
              "</table>\n",
              "</div><br><label><b>dtype:</b> int64</label>"
            ]
          },
          "metadata": {},
          "execution_count": 7
        }
      ]
    },
    {
      "cell_type": "code",
      "source": [],
      "metadata": {
        "id": "RbBf9uF6Zmmy"
      },
      "execution_count": null,
      "outputs": []
    },
    {
      "cell_type": "code",
      "source": [
        "\n",
        "df['waste_category'] = df['waste_category'].fillna(df['waste_category'].mode()[0])\n",
        "df['waste_category'].value_counts()"
      ],
      "metadata": {
        "colab": {
          "base_uri": "https://localhost:8080/",
          "height": 335
        },
        "outputId": "a45f922d-2cd3-4a9b-a18e-58c0532e4a0a",
        "id": "E-KgICUFZnBA"
      },
      "execution_count": 8,
      "outputs": [
        {
          "output_type": "execute_result",
          "data": {
            "text/plain": [
              "waste_category\n",
              "MEAT          440\n",
              "dairy         351\n",
              "Vegetables    350\n",
              "MeAt          335\n",
              "GRAINS        317\n",
              "Barley         15\n",
              "Wheat          14\n",
              "Name: count, dtype: int64"
            ],
            "text/html": [
              "<div>\n",
              "<style scoped>\n",
              "    .dataframe tbody tr th:only-of-type {\n",
              "        vertical-align: middle;\n",
              "    }\n",
              "\n",
              "    .dataframe tbody tr th {\n",
              "        vertical-align: top;\n",
              "    }\n",
              "\n",
              "    .dataframe thead th {\n",
              "        text-align: right;\n",
              "    }\n",
              "</style>\n",
              "<table border=\"1\" class=\"dataframe\">\n",
              "  <thead>\n",
              "    <tr style=\"text-align: right;\">\n",
              "      <th></th>\n",
              "      <th>count</th>\n",
              "    </tr>\n",
              "    <tr>\n",
              "      <th>waste_category</th>\n",
              "      <th></th>\n",
              "    </tr>\n",
              "  </thead>\n",
              "  <tbody>\n",
              "    <tr>\n",
              "      <th>MEAT</th>\n",
              "      <td>440</td>\n",
              "    </tr>\n",
              "    <tr>\n",
              "      <th>dairy</th>\n",
              "      <td>351</td>\n",
              "    </tr>\n",
              "    <tr>\n",
              "      <th>Vegetables</th>\n",
              "      <td>350</td>\n",
              "    </tr>\n",
              "    <tr>\n",
              "      <th>MeAt</th>\n",
              "      <td>335</td>\n",
              "    </tr>\n",
              "    <tr>\n",
              "      <th>GRAINS</th>\n",
              "      <td>317</td>\n",
              "    </tr>\n",
              "    <tr>\n",
              "      <th>Barley</th>\n",
              "      <td>15</td>\n",
              "    </tr>\n",
              "    <tr>\n",
              "      <th>Wheat</th>\n",
              "      <td>14</td>\n",
              "    </tr>\n",
              "  </tbody>\n",
              "</table>\n",
              "</div><br><label><b>dtype:</b> int64</label>"
            ]
          },
          "metadata": {},
          "execution_count": 8
        }
      ]
    },
    {
      "cell_type": "code",
      "source": [],
      "metadata": {
        "id": "8mh4YhQR_17z"
      },
      "execution_count": null,
      "outputs": []
    },
    {
      "cell_type": "code",
      "source": [
        "\n",
        "print(df.isnull().sum())\n"
      ],
      "metadata": {
        "colab": {
          "base_uri": "https://localhost:8080/"
        },
        "outputId": "13eee0e5-0a18-4fe9-8c54-8670de5caf09",
        "id": "bTYWdkUS_2oh"
      },
      "execution_count": 75,
      "outputs": [
        {
          "output_type": "stream",
          "name": "stdout",
          "text": [
            "ID                    0\n",
            "date                  0\n",
            "meals_served          0\n",
            "kitchen_staff         0\n",
            "temperature_C         0\n",
            "humidity_percent      0\n",
            "day_of_week           0\n",
            "special_event         0\n",
            "past_waste_kg         0\n",
            "staff_experience    337\n",
            "waste_category       21\n",
            "dtype: int64\n"
          ]
        }
      ]
    },
    {
      "cell_type": "code",
      "source": [
        "df['meals_served'].mean()"
      ],
      "metadata": {
        "colab": {
          "base_uri": "https://localhost:8080/"
        },
        "id": "wfIl2eOSz7Pf",
        "outputId": "33e1726e-cf85-4735-c3f6-7009690c89d4"
      },
      "execution_count": 9,
      "outputs": [
        {
          "output_type": "execute_result",
          "data": {
            "text/plain": [
              "np.float64(373.51284916201115)"
            ]
          },
          "metadata": {},
          "execution_count": 9
        }
      ]
    },
    {
      "cell_type": "code",
      "source": [
        "df['meals_served'].median()"
      ],
      "metadata": {
        "colab": {
          "base_uri": "https://localhost:8080/"
        },
        "id": "qA-vchqB3Fcc",
        "outputId": "25c20948-5d2a-467a-f5fb-0d88c6d0e4c0"
      },
      "execution_count": 10,
      "outputs": [
        {
          "output_type": "execute_result",
          "data": {
            "text/plain": [
              "306.0"
            ]
          },
          "metadata": {},
          "execution_count": 10
        }
      ]
    },
    {
      "cell_type": "code",
      "source": [
        "df['meals_served'].std()"
      ],
      "metadata": {
        "colab": {
          "base_uri": "https://localhost:8080/"
        },
        "id": "GxjgvRaG3Qq9",
        "outputId": "eaf369da-7ca7-4b66-d3e7-420f831a83e4"
      },
      "execution_count": 11,
      "outputs": [
        {
          "output_type": "execute_result",
          "data": {
            "text/plain": [
              "494.791972709125"
            ]
          },
          "metadata": {},
          "execution_count": 11
        }
      ]
    },
    {
      "cell_type": "code",
      "source": [
        "df['meals_served'].max()"
      ],
      "metadata": {
        "colab": {
          "base_uri": "https://localhost:8080/"
        },
        "id": "JXIZRjiK4I7K",
        "outputId": "a6ee7952-ea66-4a56-fcee-cc2370cadf83"
      },
      "execution_count": 13,
      "outputs": [
        {
          "output_type": "execute_result",
          "data": {
            "text/plain": [
              "4730.0"
            ]
          },
          "metadata": {},
          "execution_count": 13
        }
      ]
    },
    {
      "cell_type": "code",
      "source": [
        "df['meals_served'].min()"
      ],
      "metadata": {
        "colab": {
          "base_uri": "https://localhost:8080/"
        },
        "id": "0Xox4J7JgThp",
        "outputId": "ccd2e680-a4a5-4f1a-beb1-a129803e3865"
      },
      "execution_count": 15,
      "outputs": [
        {
          "output_type": "execute_result",
          "data": {
            "text/plain": [
              "100.0"
            ]
          },
          "metadata": {},
          "execution_count": 15
        }
      ]
    },
    {
      "cell_type": "code",
      "source": [
        "df['temperature_C'].mean()\n",
        "df['temperature_C'].median()\n",
        "df['temperature_C'].std()\n",
        "df['temperature_C'].max()\n",
        "df['temperature_C'].min()"
      ],
      "metadata": {
        "colab": {
          "base_uri": "https://localhost:8080/"
        },
        "id": "rLo3VP4Fgih1",
        "outputId": "d5ace734-d636-4324-9f14-49ee0fd6420d"
      },
      "execution_count": 16,
      "outputs": [
        {
          "output_type": "execute_result",
          "data": {
            "text/plain": [
              "-10.37220651"
            ]
          },
          "metadata": {},
          "execution_count": 16
        }
      ]
    },
    {
      "cell_type": "code",
      "source": [
        "df  ['humidity_percent'].mean()\n",
        "df  ['humidity_percent'].median()\n",
        "df  ['humidity_percent'].std()\n",
        "df  ['humidity_percent'].max()\n",
        "df  ['humidity_percent'].min()"
      ],
      "metadata": {
        "colab": {
          "base_uri": "https://localhost:8080/"
        },
        "id": "BW65rc1eg2sQ",
        "outputId": "df7a1b80-bc78-40ac-ff0b-fdfce897ff61"
      },
      "execution_count": 17,
      "outputs": [
        {
          "output_type": "execute_result",
          "data": {
            "text/plain": [
              "30.12111106"
            ]
          },
          "metadata": {},
          "execution_count": 17
        }
      ]
    },
    {
      "cell_type": "code",
      "source": [
        "df['past_waste_kg'].mean()\n",
        "df['past_waste_kg'].median()\n",
        "df['past_waste_kg'].std()\n",
        "df['past_waste_kg'].max()\n",
        "df['past_waste_kg'].min()"
      ],
      "metadata": {
        "colab": {
          "base_uri": "https://localhost:8080/"
        },
        "id": "daPUquKug9ty",
        "outputId": "4e04cc32-5084-4700-cb96-8484b42b0ea2"
      },
      "execution_count": 18,
      "outputs": [
        {
          "output_type": "execute_result",
          "data": {
            "text/plain": [
              "5.008393768"
            ]
          },
          "metadata": {},
          "execution_count": 18
        }
      ]
    },
    {
      "cell_type": "code",
      "source": [
        "\n",
        "#histogram making\n",
        "import matplotlib.pyplot as plt\n",
        "\n",
        "plt.hist(df[\"meals_served\"])\n",
        "plt.show()\n",
        "\n"
      ],
      "metadata": {
        "colab": {
          "base_uri": "https://localhost:8080/",
          "height": 430
        },
        "id": "hN4bnxpGM0RS",
        "outputId": "604a2970-06a8-4124-9615-d81167a818d3"
      },
      "execution_count": 12,
      "outputs": [
        {
          "output_type": "display_data",
          "data": {
            "text/plain": [
              "<Figure size 640x480 with 1 Axes>"
            ],
            "image/png": "[encoded data removed]"
          },
          "metadata": {}
        }
      ]
    },
    {
      "cell_type": "code",
      "source": [
        "plt.hist(df[\"temperature_C\"])\n",
        "plt.show()"
      ],
      "metadata": {
        "colab": {
          "base_uri": "https://localhost:8080/",
          "height": 430
        },
        "id": "KOWNq8ou0oeK",
        "outputId": "e9e747f7-52cc-4986-f980-4967f29573c1"
      },
      "execution_count": 11,
      "outputs": [
        {
          "output_type": "display_data",
          "data": {
            "text/plain": [
              "<Figure size 640x480 with 1 Axes>"
            ],
            "image/png": "[encoded data removed]"
          },
          "metadata": {}
        }
      ]
    },
    {
      "cell_type": "code",
      "source": [
        "df['kitchen_staff'] = df['kitchen_staff'].astype(str)\n",
        "plt.hist(df[\"kitchen_staff\"])\n",
        "plt.show()"
      ],
      "metadata": {
        "colab": {
          "base_uri": "https://localhost:8080/",
          "height": 430
        },
        "id": "PG01D_Ut2hH8",
        "outputId": "d34365bd-ef6a-42a9-e473-e55d67214414"
      },
      "execution_count": 13,
      "outputs": [
        {
          "output_type": "display_data",
          "data": {
            "text/plain": [
              "<Figure size 640x480 with 1 Axes>"
            ],
            "image/png": "[encoded data removed]"
          },
          "metadata": {}
        }
      ]
    },
    {
      "cell_type": "code",
      "source": [
        "plt.hist(df[\"humidity_percent\"])\n",
        "plt.show()"
      ],
      "metadata": {
        "colab": {
          "base_uri": "https://localhost:8080/",
          "height": 430
        },
        "id": "7sKCdeo201gB",
        "outputId": "dff30922-c55e-42ab-b954-6674aff985f5"
      },
      "execution_count": 21,
      "outputs": [
        {
          "output_type": "display_data",
          "data": {
            "text/plain": [
              "<Figure size 640x480 with 1 Axes>"
            ],
            "image/png": "[encoded data removed]"
          },
          "metadata": {}
        }
      ]
    },
    {
      "cell_type": "code",
      "source": [
        "plt.hist(df[\"past_waste_kg\"])\n",
        "plt.show()"
      ],
      "metadata": {
        "colab": {
          "base_uri": "https://localhost:8080/",
          "height": 430
        },
        "id": "F2dpwLoN1JGg",
        "outputId": "6ebae827-53b7-435c-a80c-054fbaf13b68"
      },
      "execution_count": 22,
      "outputs": [
        {
          "output_type": "display_data",
          "data": {
            "text/plain": [
              "<Figure size 640x480 with 1 Axes>"
            ],
            "image/png": "[encoded data removed]"
          },
          "metadata": {}
        }
      ]
    },
    {
      "cell_type": "code",
      "source": [],
      "metadata": {
        "id": "enLr8Adxq5be"
      },
      "execution_count": null,
      "outputs": []
    },
    {
      "source": [
        "\n",
        "\n",
        "\n",
        "def detect_outliers_iqr(df):\n",
        "    Q1 = df.quantile(0.25)\n",
        "    Q3 = df.quantile(0.75)\n",
        "    IQR = Q3 - Q1\n",
        "    lower_bound = Q1 - 1.5 * IQR\n",
        "    upper_bound = Q3 + 1.5 * IQR\n",
        "    outliers = df[(df < lower_bound) | (df > upper_bound)]\n",
        "    return outliers\n",
        "\n",
        "meals_served_outliers = detect_outliers_iqr(df['meals_served'])\n",
        "temperature_C_outliers = detect_outliers_iqr(df['temperature_C'])\n",
        "humidity_percent_outliers = detect_outliers_iqr(df['humidity_percent'])\n",
        "past_waste_kg_outliers = detect_outliers_iqr(df['past_waste_kg'])\n",
        "\n",
        "\n",
        "print(\"\\nmeals_served Outliers:\\n\", meals_served_outliers)\n",
        "print(\"\\ntemperature_C Outliers:\\n\", temperature_C_outliers)\n",
        "print(\"\\nhumidity_percent Outliers:\\n\", humidity_percent_outliers)\n",
        "print(\"\\npast_waste_kg Outliers:\\n\", past_waste_kg_outliers)\n"
      ],
      "cell_type": "code",
      "metadata": {
        "colab": {
          "base_uri": "https://localhost:8080/"
        },
        "id": "69KBJUrEg64d",
        "outputId": "378462e1-4bb4-4faa-b0f8-41006d01b1ca"
      },
      "execution_count": 18,
      "outputs": [
        {
          "output_type": "stream",
          "name": "stdout",
          "text": [
            "\n",
            "meals_served Outliers:\n",
            " 16      1560.0\n",
            "21      1110.0\n",
            "129     2930.0\n",
            "176     3160.0\n",
            "213     1510.0\n",
            "244     1380.0\n",
            "265     2440.0\n",
            "284     3580.0\n",
            "318     1070.0\n",
            "321     3190.0\n",
            "368     4680.0\n",
            "380     4100.0\n",
            "409     1750.0\n",
            "425     4080.0\n",
            "443     4080.0\n",
            "448     4010.0\n",
            "451     3170.0\n",
            "520     4510.0\n",
            "608     2830.0\n",
            "642     3380.0\n",
            "687     4730.0\n",
            "714     4590.0\n",
            "813     4590.0\n",
            "927     1560.0\n",
            "932     1110.0\n",
            "1040    2930.0\n",
            "1087    3160.0\n",
            "1124    1510.0\n",
            "1155    1380.0\n",
            "1176    2440.0\n",
            "1195    3580.0\n",
            "1196    2080.0\n",
            "1229    1070.0\n",
            "1232    3190.0\n",
            "1291    4100.0\n",
            "1320    1750.0\n",
            "1336    4080.0\n",
            "1354    4080.0\n",
            "1359    4010.0\n",
            "1362    3170.0\n",
            "1431    4510.0\n",
            "1519    2830.0\n",
            "1553    3380.0\n",
            "1598    4730.0\n",
            "1625    4590.0\n",
            "1724    4590.0\n",
            "Name: meals_served, dtype: float64\n",
            "\n",
            "temperature_C Outliers:\n",
            " 290     60.0\n",
            "300     60.0\n",
            "396     60.0\n",
            "404     60.0\n",
            "537     60.0\n",
            "560     60.0\n",
            "641     60.0\n",
            "766     60.0\n",
            "804     60.0\n",
            "1201    60.0\n",
            "1211    60.0\n",
            "1307    60.0\n",
            "1315    60.0\n",
            "1448    60.0\n",
            "1471    60.0\n",
            "1552    60.0\n",
            "1677    60.0\n",
            "1715    60.0\n",
            "Name: temperature_C, dtype: float64\n",
            "\n",
            "humidity_percent Outliers:\n",
            " Series([], Name: humidity_percent, dtype: float64)\n",
            "\n",
            "past_waste_kg Outliers:\n",
            " Series([], Name: past_waste_kg, dtype: float64)\n"
          ]
        }
      ]
    },
    {
      "cell_type": "code",
      "source": [
        "import numpy as np\n",
        "df[\"temperature_C\"]=np.clip(df[\"temperature_C\"], a_min=0, a_max=60)"
      ],
      "metadata": {
        "id": "3kYhmZWzjRaH"
      },
      "execution_count": 17,
      "outputs": []
    },
    {
      "source": [
        "import matplotlib.pyplot as plt\n",
        "import seaborn as sns\n",
        "\n",
        "\n",
        "plt.figure(figsize=(12, 5))\n",
        "plt.subplot(1, 2, 1)\n",
        "sns.boxplot(y=df['meals_served'])\n",
        "plt.title('')\n",
        "\n",
        "plt.subplot(1, 2, 2)\n",
        "sns.boxplot(y=df[\"temperature_C\"])\n",
        "plt.title('Box')\n",
        "plt.show()\n",
        "\n",
        "plt.figure(figsize=(12, 5))\n",
        "plt.subplot(1, 2, 1)\n",
        "sns.boxplot(y=df['humidity_percent'])\n",
        "plt.title('')\n",
        "\n",
        "plt.subplot(1, 2, 2)\n",
        "sns.boxplot(y=df[\"past_waste_kg\"])\n",
        "plt.title('Box')\n",
        "plt.show()\n",
        "\n",
        "\n"
      ],
      "cell_type": "code",
      "metadata": {
        "colab": {
          "base_uri": "https://localhost:8080/",
          "height": 881
        },
        "id": "92uhVgXfg_7i",
        "outputId": "2dc80f53-8f1c-4071-def0-02194dff4060"
      },
      "execution_count": 19,
      "outputs": [
        {
          "output_type": "display_data",
          "data": {
            "text/plain": [
              "<Figure size 1200x500 with 2 Axes>"
            ],
            "image/png": "[encoded data removed]"
          },
          "metadata": {}
        },
        {
          "output_type": "display_data",
          "data": {
            "text/plain": [
              "<Figure size 1200x500 with 2 Axes>"
            ],
            "image/png": "[encoded data removed]"
          },
          "metadata": {}
        }
      ]
    },
    {
      "cell_type": "code",
      "source": [
        "#bar plots\n",
        "import matplotlib.pyplot as plt\n",
        "\n",
        "plt.bar(df[\"staff_experience\"],df[\"meals_served\"])\n",
        "plt.show()\n",
        "\n",
        "\n",
        "plt.bar(df[\"staff_experience\"],df[\"waste_category\"])\n",
        "plt.show()"
      ],
      "metadata": {
        "colab": {
          "base_uri": "https://localhost:8080/",
          "height": 843
        },
        "id": "cyLZQoDvmuTY",
        "outputId": "29607f48-9d18-47a2-d81a-b554d8549660"
      },
      "execution_count": 39,
      "outputs": [
        {
          "output_type": "display_data",
          "data": {
            "text/plain": [
              "<Figure size 640x480 with 1 Axes>"
            ],
            "image/png": "[encoded data removed]"
          },
          "metadata": {}
        },
        {
          "output_type": "display_data",
          "data": {
            "text/plain": [
              "<Figure size 640x480 with 1 Axes>"
            ],
            "image/png": "[encoded data removed]"
          },
          "metadata": {}
        }
      ]
    },
    {
      "cell_type": "code",
      "source": [],
      "metadata": {
        "id": "QgMUQGlOnfrL"
      },
      "execution_count": null,
      "outputs": []
    },
    {
      "cell_type": "code",
      "source": [
        "import matplotlib.pyplot as plt\n",
        "import pandas as pd\n",
        "import seaborn as sns\n",
        "cols=[\"meals_served\",\"kitchen_staff\",\"temperature_C\",\"humidity_percent\",\"past_waste_kg\"]\n",
        "corr_matrix=df[cols].corr()\n",
        "#print(corr_matrix)\n",
        "#df[cols].describe()\n",
        "plt.figure(figsize=(10, 8))\n",
        "sns.heatmap(corr_matrix, annot=True, cmap=\"vlag\")\n",
        "plt.title('Correlation Heatmap')\n",
        "plt.show()"
      ],
      "metadata": {
        "colab": {
          "base_uri": "https://localhost:8080/",
          "height": 699
        },
        "id": "pVnRFDXZPnUe",
        "outputId": "72e13a80-0841-4794-dd40-278647fc04b0"
      },
      "execution_count": 76,
      "outputs": [
        {
          "output_type": "display_data",
          "data": {
            "text/plain": [
              "<Figure size 1000x800 with 2 Axes>"
            ],
            "image/png": "[encoded data removed]"
          },
          "metadata": {}
        }
      ]
    },
    {
      "cell_type": "code",
      "source": [
        "print(df['kitchen_staff'].dtype)"
      ],
      "metadata": {
        "colab": {
          "base_uri": "https://localhost:8080/"
        },
        "id": "jSwyg4iIVOmQ",
        "outputId": "afbd8cc7-460b-46a6-81c4-d505e427764e"
      },
      "execution_count": 79,
      "outputs": [
        {
          "output_type": "stream",
          "name": "stdout",
          "text": [
            "float64\n"
          ]
        }
      ]
    }
  ]
}